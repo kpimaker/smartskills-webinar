{
 "cells": [
  {
   "cell_type": "markdown",
   "metadata": {},
   "source": [
    "## Поиск дубликатов заявок в выгрузке"
   ]
  },
  {
   "cell_type": "code",
   "execution_count": 1,
   "metadata": {
    "collapsed": false
   },
   "outputs": [],
   "source": [
    "import pandas as pd\n",
    "%matplotlib inline"
   ]
  },
  {
   "cell_type": "markdown",
   "metadata": {},
   "source": [
    "### Загружаем данные"
   ]
  },
  {
   "cell_type": "code",
   "execution_count": 2,
   "metadata": {
    "collapsed": false
   },
   "outputs": [
    {
     "data": {
      "text/html": [
       "<div>\n",
       "<style>\n",
       "    .dataframe thead tr:only-child th {\n",
       "        text-align: right;\n",
       "    }\n",
       "\n",
       "    .dataframe thead th {\n",
       "        text-align: left;\n",
       "    }\n",
       "\n",
       "    .dataframe tbody tr th {\n",
       "        vertical-align: top;\n",
       "    }\n",
       "</style>\n",
       "<table border=\"1\" class=\"dataframe\">\n",
       "  <thead>\n",
       "    <tr style=\"text-align: right;\">\n",
       "      <th></th>\n",
       "      <th>tel</th>\n",
       "      <th>order</th>\n",
       "      <th>region</th>\n",
       "      <th>city</th>\n",
       "      <th>address</th>\n",
       "    </tr>\n",
       "  </thead>\n",
       "  <tbody>\n",
       "    <tr>\n",
       "      <th>0</th>\n",
       "      <td>d76182a41a</td>\n",
       "      <td>dbd28-2a6</td>\n",
       "      <td>A</td>\n",
       "      <td>Сусуман</td>\n",
       "      <td>Кирова 10</td>\n",
       "    </tr>\n",
       "    <tr>\n",
       "      <th>1</th>\n",
       "      <td>d4d482c479</td>\n",
       "      <td>5f375-8c9</td>\n",
       "      <td>B</td>\n",
       "      <td>Якутск</td>\n",
       "      <td>Турку 3</td>\n",
       "    </tr>\n",
       "    <tr>\n",
       "      <th>2</th>\n",
       "      <td>113ab84955</td>\n",
       "      <td>b9ce9-caf</td>\n",
       "      <td>C</td>\n",
       "      <td>Пионерский</td>\n",
       "      <td>Лермонтовская 5</td>\n",
       "    </tr>\n",
       "    <tr>\n",
       "      <th>3</th>\n",
       "      <td>92bb06cf14</td>\n",
       "      <td>9bad8-af4</td>\n",
       "      <td>A</td>\n",
       "      <td>Владивосток</td>\n",
       "      <td>Красноармейская 7</td>\n",
       "    </tr>\n",
       "    <tr>\n",
       "      <th>4</th>\n",
       "      <td>41a27123c7</td>\n",
       "      <td>77c85-fd6</td>\n",
       "      <td>D</td>\n",
       "      <td>Донецк</td>\n",
       "      <td>Солнечный 8</td>\n",
       "    </tr>\n",
       "  </tbody>\n",
       "</table>\n",
       "</div>"
      ],
      "text/plain": [
       "          tel      order region         city            address\n",
       "0  d76182a41a  dbd28-2a6      A      Сусуман          Кирова 10\n",
       "1  d4d482c479  5f375-8c9      B       Якутск            Турку 3\n",
       "2  113ab84955  b9ce9-caf      C   Пионерский    Лермонтовская 5\n",
       "3  92bb06cf14  9bad8-af4      A  Владивосток  Красноармейская 7\n",
       "4  41a27123c7  77c85-fd6      D       Донецк        Солнечный 8"
      ]
     },
     "execution_count": 2,
     "metadata": {},
     "output_type": "execute_result"
    }
   ],
   "source": [
    "# разделителем столбцов в нашем файле является табуляция (символ \\t)\n",
    "channel1 = pd.read_csv( 'channel_1_data.txt', sep = '\\t' )\n",
    "channel1.head()"
   ]
  },
  {
   "cell_type": "code",
   "execution_count": 3,
   "metadata": {
    "collapsed": false
   },
   "outputs": [
    {
     "data": {
      "text/html": [
       "<div>\n",
       "<style>\n",
       "    .dataframe thead tr:only-child th {\n",
       "        text-align: right;\n",
       "    }\n",
       "\n",
       "    .dataframe thead th {\n",
       "        text-align: left;\n",
       "    }\n",
       "\n",
       "    .dataframe tbody tr th {\n",
       "        vertical-align: top;\n",
       "    }\n",
       "</style>\n",
       "<table border=\"1\" class=\"dataframe\">\n",
       "  <thead>\n",
       "    <tr style=\"text-align: right;\">\n",
       "      <th></th>\n",
       "      <th>tel</th>\n",
       "      <th>order</th>\n",
       "    </tr>\n",
       "  </thead>\n",
       "  <tbody>\n",
       "    <tr>\n",
       "      <th>0</th>\n",
       "      <td>afb9d03f32</td>\n",
       "      <td>8db45-465</td>\n",
       "    </tr>\n",
       "    <tr>\n",
       "      <th>1</th>\n",
       "      <td>401547a015</td>\n",
       "      <td>8c245-07d</td>\n",
       "    </tr>\n",
       "    <tr>\n",
       "      <th>2</th>\n",
       "      <td>3b36ddc61f</td>\n",
       "      <td>4be87-3c2</td>\n",
       "    </tr>\n",
       "    <tr>\n",
       "      <th>3</th>\n",
       "      <td>3b36ddc61f</td>\n",
       "      <td>83cc2-028</td>\n",
       "    </tr>\n",
       "    <tr>\n",
       "      <th>4</th>\n",
       "      <td>3b36ddc61f</td>\n",
       "      <td>f1c0b-412</td>\n",
       "    </tr>\n",
       "  </tbody>\n",
       "</table>\n",
       "</div>"
      ],
      "text/plain": [
       "          tel      order\n",
       "0  afb9d03f32  8db45-465\n",
       "1  401547a015  8c245-07d\n",
       "2  3b36ddc61f  4be87-3c2\n",
       "3  3b36ddc61f  83cc2-028\n",
       "4  3b36ddc61f  f1c0b-412"
      ]
     },
     "execution_count": 3,
     "metadata": {},
     "output_type": "execute_result"
    }
   ],
   "source": [
    "channel2 = pd.read_csv( 'channel_2_data.txt', sep = '\\t' )\n",
    "channel2.head()"
   ]
  },
  {
   "cell_type": "markdown",
   "metadata": {},
   "source": [
    "### Удаляем дубликаты строк"
   ]
  },
  {
   "cell_type": "code",
   "execution_count": 4,
   "metadata": {
    "collapsed": false
   },
   "outputs": [],
   "source": [
    "# удаляем дубликаты по номеру телефона 'tel', оставляем только первую строку среди дубликатов\n",
    "\n",
    "channel1.drop_duplicates( subset = 'tel', keep = 'first', inplace = True )\n",
    "channel2.drop_duplicates( subset = 'tel', keep = 'first', inplace = True )"
   ]
  },
  {
   "cell_type": "markdown",
   "metadata": {},
   "source": [
    "### Считаем пересечение и смотрим что получилось"
   ]
  },
  {
   "cell_type": "code",
   "execution_count": 5,
   "metadata": {
    "collapsed": false
   },
   "outputs": [
    {
     "data": {
      "text/html": [
       "<div>\n",
       "<style>\n",
       "    .dataframe thead tr:only-child th {\n",
       "        text-align: right;\n",
       "    }\n",
       "\n",
       "    .dataframe thead th {\n",
       "        text-align: left;\n",
       "    }\n",
       "\n",
       "    .dataframe tbody tr th {\n",
       "        vertical-align: top;\n",
       "    }\n",
       "</style>\n",
       "<table border=\"1\" class=\"dataframe\">\n",
       "  <thead>\n",
       "    <tr style=\"text-align: right;\">\n",
       "      <th></th>\n",
       "      <th>tel</th>\n",
       "      <th>order_channel_1</th>\n",
       "      <th>region</th>\n",
       "      <th>city</th>\n",
       "      <th>address</th>\n",
       "      <th>order_channel_2</th>\n",
       "    </tr>\n",
       "  </thead>\n",
       "  <tbody>\n",
       "    <tr>\n",
       "      <th>0</th>\n",
       "      <td>162a7ce84a</td>\n",
       "      <td>db20e-61f</td>\n",
       "      <td>G</td>\n",
       "      <td>Александровск-Сахалинский</td>\n",
       "      <td>Фрунзе 10</td>\n",
       "      <td>8a99a-ac3</td>\n",
       "    </tr>\n",
       "    <tr>\n",
       "      <th>1</th>\n",
       "      <td>07a80c6e93</td>\n",
       "      <td>45b53-96d</td>\n",
       "      <td>F</td>\n",
       "      <td>Сусуман</td>\n",
       "      <td>Комсомольская 8</td>\n",
       "      <td>8d53a-30b</td>\n",
       "    </tr>\n",
       "    <tr>\n",
       "      <th>2</th>\n",
       "      <td>420a28914c</td>\n",
       "      <td>440ab-b19</td>\n",
       "      <td>F</td>\n",
       "      <td>Ижевск</td>\n",
       "      <td>Краснознаменная 7</td>\n",
       "      <td>e1f39-6c5</td>\n",
       "    </tr>\n",
       "    <tr>\n",
       "      <th>3</th>\n",
       "      <td>377d5b9f96</td>\n",
       "      <td>98e14-0b8</td>\n",
       "      <td>A</td>\n",
       "      <td>Елань</td>\n",
       "      <td>Комсомольская 8</td>\n",
       "      <td>ddd2b-d1b</td>\n",
       "    </tr>\n",
       "    <tr>\n",
       "      <th>4</th>\n",
       "      <td>b5e31b2b4b</td>\n",
       "      <td>eeb96-01a</td>\n",
       "      <td>C</td>\n",
       "      <td>Донецк</td>\n",
       "      <td>Строителей 7</td>\n",
       "      <td>aae06-0d4</td>\n",
       "    </tr>\n",
       "  </tbody>\n",
       "</table>\n",
       "</div>"
      ],
      "text/plain": [
       "          tel order_channel_1 region                       city  \\\n",
       "0  162a7ce84a       db20e-61f      G  Александровск-Сахалинский   \n",
       "1  07a80c6e93       45b53-96d      F                    Сусуман   \n",
       "2  420a28914c       440ab-b19      F                     Ижевск   \n",
       "3  377d5b9f96       98e14-0b8      A                      Елань   \n",
       "4  b5e31b2b4b       eeb96-01a      C                     Донецк   \n",
       "\n",
       "             address order_channel_2  \n",
       "0          Фрунзе 10       8a99a-ac3  \n",
       "1    Комсомольская 8       8d53a-30b  \n",
       "2  Краснознаменная 7       e1f39-6c5  \n",
       "3    Комсомольская 8       ddd2b-d1b  \n",
       "4       Строителей 7       aae06-0d4  "
      ]
     },
     "execution_count": 5,
     "metadata": {},
     "output_type": "execute_result"
    }
   ],
   "source": [
    "# ищем внутреннее пересечение наших данных по номеру телефона 'tel'\n",
    "# для удобства столбцам с одинаковыми названиями подставляем обозначения _channel_1 и _channel_2\n",
    "\n",
    "intersect = pd.merge( channel1, channel2, on = 'tel', how = 'inner', suffixes = ['_channel_1', '_channel_2'] )\n",
    "intersect.head()"
   ]
  },
  {
   "cell_type": "code",
   "execution_count": 6,
   "metadata": {
    "collapsed": false
   },
   "outputs": [],
   "source": [
    "# посмотрим сколько дубликатов в итоге получилось\n",
    "totalRows = len( intersect )"
   ]
  },
  {
   "cell_type": "code",
   "execution_count": 7,
   "metadata": {
    "collapsed": false
   },
   "outputs": [
    {
     "name": "stdout",
     "output_type": "stream",
     "text": [
      "Всего дубликатов заявок 3453\n"
     ]
    }
   ],
   "source": [
    "print( 'Всего дубликатов заявок {}'.format( totalRows ) )"
   ]
  },
  {
   "cell_type": "markdown",
   "metadata": {},
   "source": [
    "### Посмотрим в каких регионах больше всего дубликатов"
   ]
  },
  {
   "cell_type": "code",
   "execution_count": 8,
   "metadata": {
    "collapsed": false
   },
   "outputs": [
    {
     "data": {
      "text/html": [
       "<div>\n",
       "<style>\n",
       "    .dataframe thead tr:only-child th {\n",
       "        text-align: right;\n",
       "    }\n",
       "\n",
       "    .dataframe thead th {\n",
       "        text-align: left;\n",
       "    }\n",
       "\n",
       "    .dataframe tbody tr th {\n",
       "        vertical-align: top;\n",
       "    }\n",
       "</style>\n",
       "<table border=\"1\" class=\"dataframe\">\n",
       "  <thead>\n",
       "    <tr style=\"text-align: right;\">\n",
       "      <th></th>\n",
       "      <th>address</th>\n",
       "      <th>city</th>\n",
       "      <th>order_channel_1</th>\n",
       "      <th>order_channel_2</th>\n",
       "      <th>tel</th>\n",
       "    </tr>\n",
       "    <tr>\n",
       "      <th>region</th>\n",
       "      <th></th>\n",
       "      <th></th>\n",
       "      <th></th>\n",
       "      <th></th>\n",
       "      <th></th>\n",
       "    </tr>\n",
       "  </thead>\n",
       "  <tbody>\n",
       "    <tr>\n",
       "      <th>A</th>\n",
       "      <td>459</td>\n",
       "      <td>459</td>\n",
       "      <td>459</td>\n",
       "      <td>459</td>\n",
       "      <td>459</td>\n",
       "    </tr>\n",
       "    <tr>\n",
       "      <th>B</th>\n",
       "      <td>504</td>\n",
       "      <td>504</td>\n",
       "      <td>504</td>\n",
       "      <td>504</td>\n",
       "      <td>504</td>\n",
       "    </tr>\n",
       "    <tr>\n",
       "      <th>C</th>\n",
       "      <td>229</td>\n",
       "      <td>229</td>\n",
       "      <td>229</td>\n",
       "      <td>229</td>\n",
       "      <td>229</td>\n",
       "    </tr>\n",
       "    <tr>\n",
       "      <th>D</th>\n",
       "      <td>186</td>\n",
       "      <td>186</td>\n",
       "      <td>186</td>\n",
       "      <td>186</td>\n",
       "      <td>186</td>\n",
       "    </tr>\n",
       "    <tr>\n",
       "      <th>E</th>\n",
       "      <td>657</td>\n",
       "      <td>657</td>\n",
       "      <td>657</td>\n",
       "      <td>657</td>\n",
       "      <td>657</td>\n",
       "    </tr>\n",
       "    <tr>\n",
       "      <th>F</th>\n",
       "      <td>955</td>\n",
       "      <td>955</td>\n",
       "      <td>955</td>\n",
       "      <td>955</td>\n",
       "      <td>955</td>\n",
       "    </tr>\n",
       "    <tr>\n",
       "      <th>G</th>\n",
       "      <td>463</td>\n",
       "      <td>463</td>\n",
       "      <td>463</td>\n",
       "      <td>463</td>\n",
       "      <td>463</td>\n",
       "    </tr>\n",
       "  </tbody>\n",
       "</table>\n",
       "</div>"
      ],
      "text/plain": [
       "        address  city  order_channel_1  order_channel_2  tel\n",
       "region                                                      \n",
       "A           459   459              459              459  459\n",
       "B           504   504              504              504  504\n",
       "C           229   229              229              229  229\n",
       "D           186   186              186              186  186\n",
       "E           657   657              657              657  657\n",
       "F           955   955              955              955  955\n",
       "G           463   463              463              463  463"
      ]
     },
     "execution_count": 8,
     "metadata": {},
     "output_type": "execute_result"
    }
   ],
   "source": [
    "# сформируем сводную таблицу\n",
    "# в качестве столбцов возьмем регион и посчитаем количество строк\n",
    "\n",
    "pivotTable = pd.pivot_table( intersect, index = 'region', aggfunc = 'count' )\n",
    "pivotTable"
   ]
  },
  {
   "cell_type": "code",
   "execution_count": 9,
   "metadata": {
    "collapsed": false
   },
   "outputs": [
    {
     "data": {
      "text/plain": [
       "<matplotlib.axes._subplots.AxesSubplot at 0x29df3e0160>"
      ]
     },
     "execution_count": 9,
     "metadata": {},
     "output_type": "execute_result"
    },
    {
     "data": {
      "image/png": "[encoded data removed]",
      "text/plain": [
       "<matplotlib.figure.Figure at 0x29e3c25a20>"
      ]
     },
     "metadata": {},
     "output_type": "display_data"
    }
   ],
   "source": [
    "# нарисуем на диаграмме в каком регионе больше дубликатов\n",
    "\n",
    "pivotTable['tel'].plot( kind = 'bar' )"
   ]
  }
 ],
 "metadata": {
  "kernelspec": {
   "display_name": "Python 3",
   "language": "python",
   "name": "python3"
  },
  "language_info": {
   "codemirror_mode": {
    "name": "ipython",
    "version": 3
   },
   "file_extension": ".py",
   "mimetype": "text/x-python",
   "name": "python",
   "nbconvert_exporter": "python",
   "pygments_lexer": "ipython3",
   "version": "3.6.0"
  }
 },
 "nbformat": 4,
 "nbformat_minor": 2
}
