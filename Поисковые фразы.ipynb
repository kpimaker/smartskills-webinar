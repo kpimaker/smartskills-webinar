{
 "cells": [
  {
   "cell_type": "markdown",
   "metadata": {},
   "source": [
    "## Статистика всех поисковых фраз за период по дням"
   ]
  },
  {
   "cell_type": "markdown",
   "metadata": {},
   "source": [
    "Скрипт выгружает визиты и посетителей в разбивке по поисковым фразам и системам для заданного счетчика Яндекс Метрики. Выгрузка происходит за каждый день периода по-отдельности. Итоговая выгрузка пишется в файл data.txt"
   ]
  },
  {
   "cell_type": "code",
   "execution_count": 1,
   "metadata": {
    "collapsed": true
   },
   "outputs": [],
   "source": [
    "import requests\n",
    "from datetime import datetime, timedelta"
   ]
  },
  {
   "cell_type": "markdown",
   "metadata": {},
   "source": [
    "### Параметры работы скрипта"
   ]
  },
  {
   "cell_type": "code",
   "execution_count": 2,
   "metadata": {
    "collapsed": true
   },
   "outputs": [],
   "source": [
    "# начальная и конечная дата выгрузки\n",
    "\n",
    "startDate = '2017-08-01'\n",
    "endDate = '2017-08-10'"
   ]
  },
  {
   "cell_type": "code",
   "execution_count": 3,
   "metadata": {
    "collapsed": true
   },
   "outputs": [],
   "source": [
    "counterID = '' # номер счетчика"
   ]
  },
  {
   "cell_type": "code",
   "execution_count": 10,
   "metadata": {
    "collapsed": true
   },
   "outputs": [],
   "source": [
    "# измерения и метрики, из которых формируем отчет\n",
    "\n",
    "dimensions = [ 'ym:s:<attribution>SearchEngineRoot', 'ym:s:<attribution>SearchPhrase' ]\n",
    "metrics = [ 'ym:s:visits', 'ym:s:users' ]\n",
    "\n",
    "# пример добавления третьего измерения в выгрузку\n",
    "# dimensions = [ 'ym:s:<attribution>SearchEngineRoot', 'ym:s:<attribution>SearchPhrase', 'ym:s:regionCountry' ]"
   ]
  },
  {
   "cell_type": "code",
   "execution_count": 5,
   "metadata": {
    "collapsed": true
   },
   "outputs": [],
   "source": [
    "# токен для обращения к API\n",
    "# как получить токен описано в документации https://tech.yandex.ru/metrika/doc/api2/intro/authorization-docpage/\n",
    "# для простоты используйте опцию получения отладочного токена https://tech.yandex.ru/oauth/doc/dg/tasks/get-oauth-token-docpage/\n",
    "\n",
    "token = ''"
   ]
  },
  {
   "cell_type": "code",
   "execution_count": 6,
   "metadata": {
    "collapsed": true
   },
   "outputs": [],
   "source": [
    "# URL для получения отчетов, в текущей версии Яндекс Метрики не меняется\n",
    "metrikaAPIurl = 'https://api-metrika.yandex.ru/stat/v1/data'"
   ]
  },
  {
   "cell_type": "code",
   "execution_count": 7,
   "metadata": {
    "collapsed": true
   },
   "outputs": [],
   "source": [
    "def makeRequest( counterID, currentDT, offset, limit ):\n",
    "    \"\"\"\n",
    "    Функция делает запрос к API и возвращает содержимое элемента 'data' ответа API.\n",
    "    В случае ошибки выдает 'error'\n",
    "    \"\"\"\n",
    "    \n",
    "    requestParams = {\n",
    "        'dimensions': ','.join( dimensions ),\n",
    "        'metrics': ','.join( metrics ),\n",
    "        'id': counterID,\n",
    "        'date1': currentDT.strftime('%Y-%m-%d'),\n",
    "        'date2': currentDT.strftime('%Y-%m-%d'),\n",
    "        'accuracy': '1',\n",
    "        'limit': limit,\n",
    "        'offset': offset,\n",
    "        'oauth_token': token\n",
    "    }\n",
    "    \n",
    "    r = requests.get( metrikaAPIurl, params = requestParams )\n",
    "    \n",
    "    if 'errors' in r.json():\n",
    "        print( 'Что-то пошло не так для счетчика {} за дату {}. Вот что известно: {}'.format( counterID, currentDT.strftime('%Y-%m-%d'), r.json()['errors'] ) )\n",
    "        return 'error'\n",
    "    else:\n",
    "        return r.json()['data']"
   ]
  },
  {
   "cell_type": "code",
   "execution_count": 11,
   "metadata": {
    "collapsed": false
   },
   "outputs": [
    {
     "name": "stdout",
     "output_type": "stream",
     "text": [
      "Загрузка данных за 2017-08-01\n",
      "Загрузка данных за 2017-08-02\n",
      "Загрузка данных за 2017-08-03\n",
      "Загрузка данных за 2017-08-04\n",
      "Загрузка данных за 2017-08-05\n",
      "Загрузка данных за 2017-08-06\n",
      "Загрузка данных за 2017-08-07\n",
      "Загрузка данных за 2017-08-08\n",
      "Загрузка данных за 2017-08-09\n",
      "Загрузка данных за 2017-08-10\n",
      "Результаты выгружены в файл data.txt\n"
     ]
    }
   ],
   "source": [
    "# переводим начальную и конечную дату выгрузки из типа string в datetime\n",
    "# с помощью типа datetime можно будет проходить в цикле между этими датами, прибавляя 1 день\n",
    "startDateDT = datetime.strptime( startDate, '%Y-%m-%d' )\n",
    "endDateDT = datetime.strptime( endDate, '%Y-%m-%d' )\n",
    "\n",
    "# текущий день при проходе между начальной и конечной датой в цикле\n",
    "# начинаем, ествественно, с начальной датой startDate\n",
    "currentDT = startDateDT\n",
    "\n",
    "# количество строк, которые выгружаем за один запрос к API\n",
    "# максимальное значение 100000, лучше ставить сразу его, чтобы лишний раз не обращаться к API\n",
    "# меньшие значения подойдут для проверки корректности выгрузки\n",
    "limit = 100000\n",
    "\n",
    "# открываем файл data.txt для записи новых значений и удаляем его содержимое (опция 'w')\n",
    "with open( 'data.txt', 'w' ) as f:\n",
    "    \n",
    "    # переменная currentDT будет последовательно проходить значения от startDate до endDate\n",
    "    while currentDT <= endDateDT:\n",
    "        print( 'Загрузка данных за ' + currentDT.strftime('%Y-%m-%d') )\n",
    "\n",
    "        # заранее неизвестно сколько строк в отчете по поисковым фразам за текущую дату currentDT\n",
    "        # поэтому нам нужна переменная, которая при получении пустого отчета (т. е. мы выгрузили всю таблицу) \n",
    "        # будет \"сообщать\" скрипту, что выгрузка завершена и пора переходить к следующей дате\n",
    "        Flag = False\n",
    "        \n",
    "        # номер строки отчета, который собираемся выгружать\n",
    "        # в каждом запросе к API за текущую дату currentDT это значение будет увеличиваться на число выгруженных строк limit\n",
    "        offset = 1\n",
    "        \n",
    "        # выгружаем limit-строк из отчета за текущую дату currentDT, начиная с позиции offset\n",
    "        # затем увеличиваем значение offset на значение limit и повторяем запрос\n",
    "        while not Flag:\n",
    "            \n",
    "            # вызываем функцию выгрузки отчета за дату currentDT, начиная со строки offset\n",
    "            data = makeRequest( counterID, currentDT, offset, limit )\n",
    "\n",
    "            # проверяем, что в запросе не было ошибки и мы получили какие-то строки\n",
    "            # если функция вернет на 0 строк, значит мы выгрузили всю таблицу за текущую дату\n",
    "            if data != 'error' and len( data ) > 0:\n",
    "                \n",
    "                # в случае корректного ответа каждая строчка row имеет вид\n",
    "                # {'dimensions': [{'name': 'Google', 'id': 'google', 'favicon': 'google.com'}, {'name': None, 'url': None, 'favicon': None}], 'metrics': [191.0, 175.0]}\n",
    "                # для каждой строчки в таблице извлекаем ее столбцы и пишем результат в файл\n",
    "                for row in data:\n",
    "                    \n",
    "                    # список названий измерений\n",
    "                    # в примере это [ 'Google', 'None' ]\n",
    "                    dimensionsNames = [ str( x['name'] ) for x in row['dimensions'] ]\n",
    "                    \n",
    "                    # значения метрик\n",
    "                    # в примере это [ '191.0', '175.0' ]\n",
    "                    metricsValues = [ '{:.0f}'.format( x ) for x in row['metrics'] ]\n",
    "\n",
    "                    # если надо вывести результат на экран раскомментируйте строчку ниже\n",
    "                    # print( '\\t'.join( dimensionsNames ) + '\\t' + '\\t'.join( metricsValues ) )\n",
    "                    \n",
    "                    # пишем результат в файл\n",
    "                    f.write( '{}\\t{}\\t{}\\n'.format( currentDT.strftime('%Y-%m-%d'), '\\t'.join( dimensionsNames ), '\\t'.join( metricsValues ) ) )\n",
    "\n",
    "                offset += limit\n",
    "\n",
    "            else:\n",
    "                Flag = True\n",
    "\n",
    "\n",
    "        currentDT += timedelta( days = 1 )\n",
    "\n",
    "print( 'Результаты выгружены в файл data.txt' )"
   ]
  },
  {
   "cell_type": "code",
   "execution_count": null,
   "metadata": {
    "collapsed": true
   },
   "outputs": [],
   "source": []
  }
 ],
 "metadata": {
  "kernelspec": {
   "display_name": "Python 3",
   "language": "python",
   "name": "python3"
  },
  "language_info": {
   "codemirror_mode": {
    "name": "ipython",
    "version": 3
   },
   "file_extension": ".py",
   "mimetype": "text/x-python",
   "name": "python",
   "nbconvert_exporter": "python",
   "pygments_lexer": "ipython3",
   "version": "3.6.0"
  }
 },
 "nbformat": 4,
 "nbformat_minor": 2
}
